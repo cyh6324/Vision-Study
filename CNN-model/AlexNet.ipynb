{
  "nbformat": 4,
  "nbformat_minor": 0,
  "metadata": {
    "colab": {
      "name": "AlexNet",
      "provenance": [],
      "authorship_tag": "ABX9TyO9IQfOUKFnjefPxZu/jCXK",
      "include_colab_link": true
    },
    "kernelspec": {
      "name": "python3",
      "display_name": "Python 3"
    },
    "language_info": {
      "name": "python"
    }
  },
  "cells": [
    {
      "cell_type": "markdown",
      "metadata": {
        "id": "view-in-github",
        "colab_type": "text"
      },
      "source": [
        "<a href=\"https://colab.research.google.com/github/yyonghyuk/Vision-Study/blob/main/AlexNet.ipynb\" target=\"_parent\"><img src=\"https://colab.research.google.com/assets/colab-badge.svg\" alt=\"Open In Colab\"/></a>"
      ]
    },
    {
      "cell_type": "markdown",
      "metadata": {
        "id": "NUwYcGAUOcmf"
      },
      "source": [
        "# import"
      ]
    },
    {
      "cell_type": "code",
      "metadata": {
        "id": "9LdG3RgdFk6y"
      },
      "source": [
        "# import\n",
        "import numpy as np\n",
        "import pandas as pd\n",
        "import os\n",
        "import sklearn as sk\n",
        "import tesorflow as tf\n",
        "import cv2"
      ],
      "execution_count": null,
      "outputs": []
    },
    {
      "cell_type": "markdown",
      "metadata": {
        "id": "gXt9TUauGRDV"
      },
      "source": [
        "#AlexNet 모델 구현"
      ]
    },
    {
      "cell_type": "code",
      "metadata": {
        "id": "M-ph0kkDOTIY"
      },
      "source": [
        "# 모델 구현\n",
        "# functional API 방식으로 구현.\n",
        "\n",
        "def alexNet(in_shape ="
      ],
      "execution_count": null,
      "outputs": []
    }
  ]
}
